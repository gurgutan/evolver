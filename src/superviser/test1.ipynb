{
 "cells": [
  {
   "cell_type": "code",
   "execution_count": null,
   "metadata": {},
   "outputs": [],
   "source": [
    "%pip install torchvision"
   ]
  },
  {
   "cell_type": "code",
   "execution_count": null,
   "metadata": {},
   "outputs": [],
   "source": [
    "import torch\n",
    "import torch.nn.functional as F\n",
    "from torch import nn\n",
    "from torch.utils.data import DataLoader\n",
    "from torchvision import datasets\n",
    "from torchvision.transforms import ToTensor    "
   ]
  },
  {
   "cell_type": "code",
   "execution_count": null,
   "metadata": {},
   "outputs": [],
   "source": [
    "class SupervisedKernel(nn.Module):\n",
    "    def __init__(self, kernel: nn.Module = None, supervisor: nn.Module = None):\n",
    "        super(SupervisedKernel, self).__init__()\n",
    "        if(kernel is not None):\n",
    "            self.kernel = kernel\n",
    "        else:\n",
    "            self.kernel = nn.Sequential(nn.Linear(8, 8), nn.ReLU())\n",
    "        self.superviser = supervisor\n",
    "        if(self.superviser is not None):\n",
    "            self.superviser.requires_grad_(False)\n",
    "\n",
    "    def forward(self, x):\n",
    "        y = self.kernel(x)\n",
    "        if(self.superviser is not None):\n",
    "            target = self.superviser(x)\n",
    "        else:\n",
    "            target = y\n",
    "        return y, target\n",
    "    \n",
    "    @classmethod\n",
    "    def is_supervised(self, module: nn.Module):\n",
    "        return isinstance(module, SupervisedKernel) and (module.superviser is not None)\n",
    "    \n",
    "    def update(self, kernel: nn.Module, retrain: bool = True):\n",
    "        # прежнее ядро становится супервизором\n",
    "        self.superviser = self.kernel.requires_grad_(False)\n",
    "        self.kernel = kernel\n",
    "\n",
    "    def advise(self, x):\n",
    "        "
   ]
  },
  {
   "cell_type": "code",
   "execution_count": null,
   "metadata": {},
   "outputs": [],
   "source": [
    "# Download training data from open datasets.\n",
    "training_data = datasets.FashionMNIST(\n",
    "    root=\"data\",\n",
    "    train=True,\n",
    "    download=True,\n",
    "    transform=ToTensor(),\n",
    ")\n",
    "\n",
    "# Download test data from open datasets.\n",
    "test_data = datasets.FashionMNIST(\n",
    "    root=\"data\",\n",
    "    train=False,\n",
    "    download=True,\n",
    "    transform=ToTensor(),\n",
    ")"
   ]
  },
  {
   "cell_type": "code",
   "execution_count": 8,
   "metadata": {},
   "outputs": [
    {
     "name": "stdout",
     "output_type": "stream",
     "text": [
      "Shape of X [N, C, H, W]: torch.Size([64, 1, 28, 28])\n",
      "Shape of y: torch.Size([64]) torch.int64\n"
     ]
    }
   ],
   "source": [
    "batch_size = 64\n",
    "\n",
    "train_dataloader = DataLoader(training_data, batch_size=batch_size)\n",
    "test_dataloader = DataLoader(test_data, batch_size=batch_size)\n",
    "\n",
    "for X, y in test_dataloader:\n",
    "    print(f\"Shape of X [N, C, H, W]: {X.shape}\")\n",
    "    print(f\"Shape of y: {y.shape} {y.dtype}\")\n",
    "    break"
   ]
  },
  {
   "cell_type": "code",
   "execution_count": 9,
   "metadata": {},
   "outputs": [
    {
     "name": "stdout",
     "output_type": "stream",
     "text": [
      "Using cuda device\n",
      "NeuralNetwork(\n",
      "  (flatten): Flatten(start_dim=1, end_dim=-1)\n",
      "  (linear_relu_stack): Sequential(\n",
      "    (0): Linear(in_features=784, out_features=512, bias=True)\n",
      "    (1): ReLU()\n",
      "    (2): Linear(in_features=512, out_features=512, bias=True)\n",
      "    (3): ReLU()\n",
      "    (4): Linear(in_features=512, out_features=10, bias=True)\n",
      "  )\n",
      ")\n"
     ]
    }
   ],
   "source": [
    "# Get cpu, gpu or mps device for training.\n",
    "device = (\n",
    "    \"cuda\"\n",
    "    if torch.cuda.is_available()\n",
    "    else \"mps\"\n",
    "    if torch.backends.mps.is_available()\n",
    "    else \"cpu\"\n",
    ")\n",
    "print(f\"Using {device} device\")\n",
    "\n",
    "# Define model\n",
    "class NeuralNetwork(nn.Module):\n",
    "    def __init__(self):\n",
    "        super().__init__()\n",
    "        self.flatten = nn.Flatten()\n",
    "        self.linear_relu_stack = nn.Sequential(\n",
    "            nn.Linear(28*28, 512),\n",
    "            nn.ReLU(),\n",
    "            nn.Linear(512, 512),\n",
    "            nn.ReLU(),\n",
    "            nn.Linear(512, 10)\n",
    "        )\n",
    "\n",
    "    def forward(self, x):\n",
    "        x = self.flatten(x)\n",
    "        logits = self.linear_relu_stack(x)\n",
    "        return logits\n",
    "\n",
    "model = NeuralNetwork().to(device)\n",
    "print(model)"
   ]
  },
  {
   "cell_type": "code",
   "execution_count": 10,
   "metadata": {},
   "outputs": [],
   "source": [
    "def train(dataloader, model, loss_fn, optimizer):\n",
    "    size = len(dataloader.dataset)\n",
    "    model.train()\n",
    "    for batch, (X, y) in enumerate(dataloader):\n",
    "        X, y = X.to(device), y.to(device)\n",
    "\n",
    "        # Compute prediction error\n",
    "        pred = model(X)\n",
    "        loss = loss_fn(pred, y)\n",
    "\n",
    "        # Backpropagation\n",
    "        loss.backward()\n",
    "        optimizer.step()\n",
    "        optimizer.zero_grad()\n",
    "\n",
    "        if batch % 100 == 0:\n",
    "            loss, current = loss.item(), (batch + 1) * len(X)\n",
    "            print(f\"loss: {loss:>7f}  [{current:>5d}/{size:>5d}]\")"
   ]
  },
  {
   "cell_type": "code",
   "execution_count": 11,
   "metadata": {},
   "outputs": [],
   "source": [
    "def test(dataloader, model, loss_fn):\n",
    "    size = len(dataloader.dataset)\n",
    "    num_batches = len(dataloader)\n",
    "    model.eval()\n",
    "    test_loss, correct = 0, 0\n",
    "    with torch.no_grad():\n",
    "        for X, y in dataloader:\n",
    "            X, y = X.to(device), y.to(device)\n",
    "            pred = model(X)\n",
    "            test_loss += loss_fn(pred, y).item()\n",
    "            correct += (pred.argmax(1) == y).type(torch.float).sum().item()\n",
    "    test_loss /= num_batches\n",
    "    correct /= size\n",
    "    print(f\"Test Error: \\n Accuracy: {(100*correct):>0.1f}%, Avg loss: {test_loss:>8f} \\n\")"
   ]
  },
  {
   "cell_type": "code",
   "execution_count": 14,
   "metadata": {},
   "outputs": [
    {
     "name": "stdout",
     "output_type": "stream",
     "text": [
      "Epoch 1\n",
      "-------------------------------\n",
      "loss: 1.152025  [   64/60000]\n",
      "loss: 1.157322  [ 6464/60000]\n",
      "loss: 0.973880  [12864/60000]\n",
      "loss: 1.106955  [19264/60000]\n",
      "loss: 0.987002  [25664/60000]\n",
      "loss: 1.013624  [32064/60000]\n",
      "loss: 1.050538  [38464/60000]\n",
      "loss: 1.008866  [44864/60000]\n",
      "loss: 1.027371  [51264/60000]\n",
      "loss: 0.971470  [57664/60000]\n",
      "Test Error: \n",
      " Accuracy: 66.2%, Avg loss: 0.979064 \n",
      "\n",
      "Epoch 2\n",
      "-------------------------------\n",
      "loss: 1.033243  [   64/60000]\n",
      "loss: 1.059224  [ 6464/60000]\n",
      "loss: 0.860504  [12864/60000]\n",
      "loss: 1.016855  [19264/60000]\n",
      "loss: 0.900433  [25664/60000]\n",
      "loss: 0.919633  [32064/60000]\n",
      "loss: 0.974077  [38464/60000]\n",
      "loss: 0.935530  [44864/60000]\n",
      "loss: 0.949180  [51264/60000]\n",
      "loss: 0.904585  [57664/60000]\n",
      "Test Error: \n",
      " Accuracy: 67.5%, Avg loss: 0.907046 \n",
      "\n",
      "Epoch 3\n",
      "-------------------------------\n",
      "loss: 0.946664  [   64/60000]\n",
      "loss: 0.990998  [ 6464/60000]\n",
      "loss: 0.779232  [12864/60000]\n",
      "loss: 0.953026  [19264/60000]\n",
      "loss: 0.842993  [25664/60000]\n",
      "loss: 0.851109  [32064/60000]\n",
      "loss: 0.920725  [38464/60000]\n",
      "loss: 0.886181  [44864/60000]\n",
      "loss: 0.893039  [51264/60000]\n",
      "loss: 0.855967  [57664/60000]\n",
      "Test Error: \n",
      " Accuracy: 68.6%, Avg loss: 0.855105 \n",
      "\n",
      "Epoch 4\n",
      "-------------------------------\n",
      "loss: 0.880415  [   64/60000]\n",
      "loss: 0.939900  [ 6464/60000]\n",
      "loss: 0.718556  [12864/60000]\n",
      "loss: 0.904888  [19264/60000]\n",
      "loss: 0.802329  [25664/60000]\n",
      "loss: 0.799592  [32064/60000]\n",
      "loss: 0.880443  [38464/60000]\n",
      "loss: 0.851477  [44864/60000]\n",
      "loss: 0.851100  [51264/60000]\n",
      "loss: 0.818634  [57664/60000]\n",
      "Test Error: \n",
      " Accuracy: 69.7%, Avg loss: 0.815790 \n",
      "\n",
      "Epoch 5\n",
      "-------------------------------\n",
      "loss: 0.827575  [   64/60000]\n",
      "loss: 0.899015  [ 6464/60000]\n",
      "loss: 0.671652  [12864/60000]\n",
      "loss: 0.867223  [19264/60000]\n",
      "loss: 0.771777  [25664/60000]\n",
      "loss: 0.760143  [32064/60000]\n",
      "loss: 0.848086  [38464/60000]\n",
      "loss: 0.825756  [44864/60000]\n",
      "loss: 0.818624  [51264/60000]\n",
      "loss: 0.788562  [57664/60000]\n",
      "Test Error: \n",
      " Accuracy: 71.0%, Avg loss: 0.784590 \n",
      "\n",
      "Done!\n"
     ]
    }
   ],
   "source": [
    "loss_fn = nn.CrossEntropyLoss()\n",
    "optimizer = torch.optim.SGD(model.parameters(), lr=1e-3)\n",
    "\n",
    "epochs = 5\n",
    "for t in range(epochs):\n",
    "    print(f\"Epoch {t+1}\\n-------------------------------\")\n",
    "    train(train_dataloader, model, loss_fn, optimizer)\n",
    "    test(test_dataloader, model, loss_fn)\n",
    "print(\"Done!\")"
   ]
  },
  {
   "cell_type": "code",
   "execution_count": 17,
   "metadata": {},
   "outputs": [
    {
     "name": "stdout",
     "output_type": "stream",
     "text": [
      "Predicted class: tensor([8, 8, 6, 8], device='cuda:0')\n"
     ]
    }
   ],
   "source": [
    "X = torch.rand(4, 28, 28, device=device)\n",
    "logits = model(X)\n",
    "pred_probab = nn.Softmax(dim=1)(logits)\n",
    "y_pred = pred_probab.argmax(1)\n",
    "print(f\"Predicted class: {y_pred}\")"
   ]
  }
 ],
 "metadata": {
  "kernelspec": {
   "display_name": "Python 3",
   "language": "python",
   "name": "python3"
  },
  "language_info": {
   "codemirror_mode": {
    "name": "ipython",
    "version": 3
   },
   "file_extension": ".py",
   "mimetype": "text/x-python",
   "name": "python",
   "nbconvert_exporter": "python",
   "pygments_lexer": "ipython3",
   "version": "3.10.12"
  },
  "orig_nbformat": 4
 },
 "nbformat": 4,
 "nbformat_minor": 2
}
