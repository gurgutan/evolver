{
   "cells": [
      {
         "cell_type": "markdown",
         "metadata": {},
         "source": [
            "## Данный пример демонстрирует создание нейросети (НС) при помощи интерпретатора специального языка (названия пока нет)\n",
            "\n",
            "Шаги создания модели:\n",
            "1. Написать скрипт с архитектурой НС.\n",
            "2. Создать экземпляр парсера Parser().\n",
            "3. Создать модели pytorch из скрипта при помощи функции from_str().\n",
            "4. Извлечь готовый модуль из результата для использования в вычислениях."
         ]
      },
      {
         "cell_type": "code",
         "execution_count": null,
         "metadata": {},
         "outputs": [],
         "source": [
            "import torch\n",
            "from torchview import draw_graph\n",
            "from  generator.interpreter import Interpreter\n",
            "import generator.bricks as bricks\n",
            "import sys\n",
            "import time\n",
            "import torch.nn.functional as F"
         ]
      },
      {
         "cell_type": "code",
         "execution_count": null,
         "metadata": {},
         "outputs": [
            {
               "name": "stderr",
               "output_type": "stream",
               "text": [
                  "\u001b[32m2024-11-12 21:23:05.548\u001b[0m | \u001b[1mINFO    \u001b[0m | \u001b[36mgenerator.interpreter\u001b[0m:\u001b[36mparse\u001b[0m:\u001b[36m150\u001b[0m - \u001b[1mTime to generate models: 0.014869213104248047\u001b[0m\n",
                  "\u001b[32m2024-11-12 21:23:05.611\u001b[0m | \u001b[1mINFO    \u001b[0m | \u001b[36mgenerator.interpreter\u001b[0m:\u001b[36mparse\u001b[0m:\u001b[36m150\u001b[0m - \u001b[1mTime to generate models: 0.06184244155883789\u001b[0m\n",
                  "\u001b[32m2024-11-12 21:23:05.861\u001b[0m | \u001b[1mINFO    \u001b[0m | \u001b[36mgenerator.interpreter\u001b[0m:\u001b[36mparse\u001b[0m:\u001b[36m150\u001b[0m - \u001b[1mTime to generate models: 0.24912810325622559\u001b[0m\n",
                  "\u001b[32m2024-11-12 21:23:05.863\u001b[0m | \u001b[1mINFO    \u001b[0m | \u001b[36mgenerator.interpreter\u001b[0m:\u001b[36mparse\u001b[0m:\u001b[36m150\u001b[0m - \u001b[1mTime to generate models: 0.001957416534423828\u001b[0m\n",
                  "\u001b[32m2024-11-12 21:23:05.868\u001b[0m | \u001b[1mINFO    \u001b[0m | \u001b[36mgenerator.interpreter\u001b[0m:\u001b[36mparse\u001b[0m:\u001b[36m150\u001b[0m - \u001b[1mTime to generate models: 0.004101991653442383\u001b[0m\n",
                  "\u001b[32m2024-11-12 21:23:05.892\u001b[0m | \u001b[1mINFO    \u001b[0m | \u001b[36mgenerator.interpreter\u001b[0m:\u001b[36mparse\u001b[0m:\u001b[36m150\u001b[0m - \u001b[1mTime to generate models: 0.022968769073486328\u001b[0m\n"
               ]
            },
            {
               "name": "stdout",
               "output_type": "stream",
               "text": [
                  "Время обработки всех скриптов: 0.3589482307434082\n"
               ]
            }
         ],
         "source": [
            "# Тест создания моделей из выражения строки\n",
            "device = \"cuda\"\n",
            "\n",
            "# Примеры\n",
            "examples = dict(\n",
            "    s1 = \"output={ {@4->relu+@8->relu}^2 }%2->@16->softmax->linear(5);\",\n",
            "    s2 = \"output={ {@16->relu+@16->sigmoid}^4 }%8->@16;\",\n",
            "    s3 = \"output={ {@64->relu}^16 }%16;\",\n",
            "    s4 = \"output = linear(5) -> softmax;\",\n",
            "    s5 = \"output = { @5->@20 + @10->@20 + @20 } -> softmax;\",\n",
            "    s6 = \"\"\"\n",
            "        y = @64 + @64;          # y - параллельно соединены x и модуль из 64 нейронов\n",
            "        z = @8 -> y;            # z - x последовательно соединен с y\n",
            "        w = @8 ^ 4;             # w - 4 слоя по 8 нейронов последовательно соединены\n",
            "        a = {@16 + @16} % 2;    # a - параллельно соединены два модуля x\n",
            "        output = z -> w -> a -> {{@8 -> relu + @8 -> relu} ^ 2} % 2 -> @16 -> softmax;\n",
            "    \"\"\"\n",
            ")\n",
            "# создаем парсер\n",
            "interpreter = Interpreter()\n",
            "\n",
            "# Отмечаем время старта\n",
            "start_time = time.time()\n",
            "\n",
            "# создаем модели примеров\n",
            "scripts = {name: interpreter.parse(s) for name, s in examples.items()}\n",
            "\n",
            "# Отмечаем время окончания создания модели\n",
            "end_time = time.time()\n",
            "\n",
            "# Результат работы парсера - набор модулей models, в которых храняться модели.\n",
            "# Чтобы использовать модель - мы можем обратиться к ней по имени соответствующей переменной из скрипта.\n",
            "model = scripts[\"s6\"].get(\"output\").to(device)\n",
            "\n",
            "print(f\"Время обработки всех скриптов: {end_time-start_time}\")"
         ]
      },
      {
         "cell_type": "code",
         "execution_count": null,
         "metadata": {},
         "outputs": [
            {
               "data": {
                  "text/plain": [
                     "{'type': 'script',\n",
                     " 'modules': {'y': {'type': 'assignment',\n",
                     "   'name': 'y',\n",
                     "   'value': {'type': 'operation',\n",
                     "    'operator': 'plus',\n",
                     "    'left': {'type': 'module', 'module_type': 'Linear', 'params': [64]},\n",
                     "    'right': {'type': 'module', 'module_type': 'Linear', 'params': [64]}}},\n",
                     "  'z': {'type': 'assignment',\n",
                     "   'name': 'z',\n",
                     "   'value': {'type': 'operation',\n",
                     "    'operator': 'arrow',\n",
                     "    'left': {'type': 'module', 'module_type': 'Linear', 'params': [8]},\n",
                     "    'right': {'type': 'identifier', 'name': 'y'}}},\n",
                     "  'w': {'type': 'assignment',\n",
                     "   'name': 'w',\n",
                     "   'value': {'type': 'operation',\n",
                     "    'operator': 'power',\n",
                     "    'left': {'type': 'module', 'module_type': 'Linear', 'params': [8]},\n",
                     "    'right': {'type': 'number', 'value': 4}}},\n",
                     "  'a': {'type': 'assignment',\n",
                     "   'name': 'a',\n",
                     "   'value': {'type': 'operation',\n",
                     "    'operator': 'percent',\n",
                     "    'left': {'type': 'operation',\n",
                     "     'operator': 'plus',\n",
                     "     'left': {'type': 'module', 'module_type': 'Linear', 'params': [16]},\n",
                     "     'right': {'type': 'module', 'module_type': 'Linear', 'params': [16]}},\n",
                     "    'right': {'type': 'number', 'value': 2}}},\n",
                     "  'output': {'type': 'assignment',\n",
                     "   'name': 'output',\n",
                     "   'value': {'type': 'operation',\n",
                     "    'operator': 'arrow',\n",
                     "    'left': {'type': 'operation',\n",
                     "     'operator': 'arrow',\n",
                     "     'left': {'type': 'operation',\n",
                     "      'operator': 'arrow',\n",
                     "      'left': {'type': 'operation',\n",
                     "       'operator': 'arrow',\n",
                     "       'left': {'type': 'operation',\n",
                     "        'operator': 'arrow',\n",
                     "        'left': {'type': 'identifier', 'name': 'z'},\n",
                     "        'right': {'type': 'identifier', 'name': 'w'}},\n",
                     "       'right': {'type': 'identifier', 'name': 'a'}},\n",
                     "      'right': {'type': 'operation',\n",
                     "       'operator': 'percent',\n",
                     "       'left': {'type': 'operation',\n",
                     "        'operator': 'power',\n",
                     "        'left': {'type': 'operation',\n",
                     "         'operator': 'plus',\n",
                     "         'left': {'type': 'operation',\n",
                     "          'operator': 'arrow',\n",
                     "          'left': {'type': 'module', 'module_type': 'Linear', 'params': [8]},\n",
                     "          'right': {'type': 'module',\n",
                     "           'module_type': 'Activator',\n",
                     "           'params': ['relu']}},\n",
                     "         'right': {'type': 'operation',\n",
                     "          'operator': 'arrow',\n",
                     "          'left': {'type': 'module', 'module_type': 'Linear', 'params': [8]},\n",
                     "          'right': {'type': 'module',\n",
                     "           'module_type': 'Activator',\n",
                     "           'params': ['relu']}}},\n",
                     "        'right': {'type': 'number', 'value': 2}},\n",
                     "       'right': {'type': 'number', 'value': 2}}},\n",
                     "     'right': {'type': 'module', 'module_type': 'Linear', 'params': [16]}},\n",
                     "    'right': {'type': 'module',\n",
                     "     'module_type': 'Activator',\n",
                     "     'params': ['softmax']}}}}}"
                  ]
               },
               "execution_count": 3,
               "metadata": {},
               "output_type": "execute_result"
            }
         ],
         "source": [
            "interpreter.ast_root.serialize()"
         ]
      },
      {
         "cell_type": "code",
         "execution_count": null,
         "metadata": {},
         "outputs": [
            {
               "name": "stdout",
               "output_type": "stream",
               "text": [
                  "Результат:\n",
                  "tensor([[0.0714, 0.0824, 0.0764, 0.0475, 0.0510, 0.0474, 0.0485, 0.0540, 0.0670,\n",
                  "         0.0621, 0.0876, 0.0652, 0.0535, 0.0751, 0.0500, 0.0609]],\n",
                  "       device='cuda:0', grad_fn=<SoftmaxBackward0>)\n",
                  "Параметров: 3456\n",
                  "Размерность входного тензора: torch.Size([1, 16])\n",
                  "Размерность выходного тензора: torch.Size([1, 16])\n"
               ]
            }
         ],
         "source": [
            "# Подсчитаем размер модели\n",
            "from generator.visualizers import model_input_shape, model_params_count\n",
            "\n",
            "\n",
            "input_shape = (1,1)\n",
            "\n",
            "# Тестируем работу модели на тестовом тензоре\n",
            "x = torch.randn(input_shape).to(device)\n",
            "y = model.to(device)(x)\n",
            "print(f\"Результат:\\n{y}\")\n",
            "\n",
            "params_count = model_params_count(model)\n",
            "print(f\"Параметров: {params_count}\")\n",
            "\n",
            "print(f\"Размерность входного тензора: {y.shape}\")\n",
            "print(f\"Размерность выходного тензора: {y.shape}\")"
         ]
      },
      {
         "cell_type": "code",
         "execution_count": 5,
         "metadata": {},
         "outputs": [
            {
               "name": "stdout",
               "output_type": "stream",
               "text": [
                  "Подсеть: \n",
                  "Composition(\n",
                  "  (left): Composition(\n",
                  "    (left): Composition(\n",
                  "      (left): Composition(\n",
                  "        (left): Composition(\n",
                  "          (left): Linear(\n",
                  "            (linear): Linear(in_features=1, out_features=8, bias=True)\n",
                  "          )\n",
                  "          (right): {Linear(\n",
                  "            (linear): Linear(in_features=8, out_features=64, bias=True)\n",
                  "          )+Linear(\n",
                  "            (linear): Linear(in_features=8, out_features=64, bias=True)\n",
                  "          )}\n",
                  "        )\n",
                  "        (right): Multiplicator(\n",
                  "          (layers): ModuleList(\n",
                  "            (0): Linear(\n",
                  "              (linear): Linear(in_features=64, out_features=8, bias=True)\n",
                  "            )\n",
                  "            (1-3): 3 x Linear(\n",
                  "              (linear): Linear(in_features=8, out_features=8, bias=True)\n",
                  "            )\n",
                  "          )\n",
                  "        )\n",
                  "      )\n",
                  "      (right): Splitter(\n",
                  "        (models): ModuleList(\n",
                  "          (0-1): 2 x {Linear(\n",
                  "            (linear): Linear(in_features=8, out_features=16, bias=True)\n",
                  "          )+Linear(\n",
                  "            (linear): Linear(in_features=8, out_features=16, bias=True)\n",
                  "          )}\n",
                  "        )\n",
                  "      )\n",
                  "    )\n",
                  "    (right): Splitter(\n",
                  "      (models): ModuleList(\n",
                  "        (0-1): 2 x Multiplicator(\n",
                  "          (layers): ModuleList(\n",
                  "            (0): {Composition(\n",
                  "              (left): Linear(\n",
                  "                (linear): Linear(in_features=16, out_features=8, bias=True)\n",
                  "              )\n",
                  "              (right): relu\n",
                  "            )+Composition(\n",
                  "              (left): Linear(\n",
                  "                (linear): Linear(in_features=16, out_features=8, bias=True)\n",
                  "              )\n",
                  "              (right): relu\n",
                  "            )}\n",
                  "            (1): {Composition(\n",
                  "              (left): Linear(\n",
                  "                (linear): Linear(in_features=8, out_features=8, bias=True)\n",
                  "              )\n",
                  "              (right): relu\n",
                  "            )+Composition(\n",
                  "              (left): Linear(\n",
                  "                (linear): Linear(in_features=8, out_features=8, bias=True)\n",
                  "              )\n",
                  "              (right): relu\n",
                  "            )}\n",
                  "          )\n",
                  "        )\n",
                  "      )\n",
                  "    )\n",
                  "  )\n",
                  "  (right): Linear(\n",
                  "    (linear): Linear(in_features=8, out_features=16, bias=True)\n",
                  "  )\n",
                  ")\n"
               ]
            }
         ],
         "source": [
            "# Получим один из элементов модели по идентификатору подмодуля\n",
            "print(f\"Подсеть: \\n{model.get_submodule('left')}\")\n"
         ]
      },
      {
         "cell_type": "code",
         "execution_count": 6,
         "metadata": {},
         "outputs": [
            {
               "data": {
                  "text/plain": [
                     "'{{{{{{linear(8)->{linear(64)+linear(64)}}->linear(8)^4}->{linear(16)+linear(16)}%2}->{{linear(8)->relu}+{linear(8)->relu}}^2%2}->linear(16)}->softmax}'"
                  ]
               },
               "execution_count": 6,
               "metadata": {},
               "output_type": "execute_result"
            }
         ],
         "source": [
            "# Обратная конвертация модели в выражение\n",
            "# Это выражение не является полноценным скриптом, т.к. не является выражением присвоения\n",
            "model.expr_str(expand=True)\n"
         ]
      },
      {
         "cell_type": "code",
         "execution_count": 7,
         "metadata": {},
         "outputs": [
            {
               "name": "stdout",
               "output_type": "stream",
               "text": [
                  "Изображение сохранено в ./pic/test.png\n"
               ]
            },
            {
               "data": {
                  "text/plain": [
                     "'pic/test.pdf'"
                  ]
               },
               "execution_count": 7,
               "metadata": {},
               "output_type": "execute_result"
            }
         ],
         "source": [
            "# Нарисуем диаграмму модели\n",
            "from generator.visualizers import draw_model\n",
            "\n",
            "\n",
            "input_size = (1, 10)\n",
            "pic_path = './pic'\n",
            "graph_name = 'test'\n",
            "model_graph = draw_model(model, graph_name, pic_path)\n",
            "\n",
            "print(f\"Изображение сохранено в {pic_path}/{graph_name}.png\")\n",
            "model_graph.resize_graph(scale=3)\n",
            "model_graph.visual_graph.view(graph_name)"
         ]
      },
      {
         "cell_type": "code",
         "execution_count": 8,
         "metadata": {},
         "outputs": [
            {
               "name": "stdout",
               "output_type": "stream",
               "text": [
                  "tensor([[ 0.2899,  0.4050,  0.2727, -0.3197, -0.2631, -0.5494, -0.2929, -0.3652,\n",
                  "          0.3767, -0.1967,  0.1993,  0.4289, -0.3217,  0.1560,  0.1202,  0.1042]],\n",
                  "       device='cuda:0', grad_fn=<AddmmBackward0>)\n",
                  "tensor([[ 2.4078e-02, -7.2190e-01,  1.1648e-01,  1.7959e-03, -8.2747e-02,\n",
                  "         -5.2526e-02, -2.6982e-01,  1.8857e-04,  4.1846e-01,  3.2105e-01,\n",
                  "          3.5988e-01, -1.4250e-01, -2.2909e-01, -6.6207e-01, -2.9037e-01,\n",
                  "         -6.1305e-01,  5.9944e-01, -1.7699e-01,  7.5098e-02,  3.9966e-01,\n",
                  "         -2.5356e-01,  2.1176e-01,  1.2429e-01,  2.1163e-01]], device='cuda:0',\n",
                  "       grad_fn=<CatBackward0>)\n",
                  "\n",
                  "Результат разделения и склейки сохранен в ./pic/decomose\n"
               ]
            }
         ],
         "source": [
            "# Пример того, как можно использовать в вычислениях отдельный подмодуль модели\n",
            "# Тестовый входной тензор для модели\n",
            "input_size = (1, 8)\n",
            "x = torch.randn(input_size).to(device)\n",
            "\n",
            "# Так как в синтаксисе операции '+' и '->' являются бинарными, \n",
            "# построенные из таких выражений подмодули имеют имена left и right\n",
            "# Извлечем элемент left.right из модели\n",
            "chunk = model.left.right\n",
            "print(chunk(x))\n",
            "\n",
            "graph_name='left.right'\n",
            "model_graph = draw_model(chunk, graph_name, pic_path)\n",
            "\n",
            "# Более того, мы можем менять структуру, например, операцией decompose()\n",
            "# Разделим на две части блок chunk\n",
            "left, right = chunk.decompose()\n",
            "\n",
            "# Создадим новый модуль как соединение left и  right\n",
            "new_chunk = bricks.Connector(left, right).to(\"cuda\")\n",
            "print(new_chunk(x))\n",
            "\n",
            "graph_name='decomose'\n",
            "model_graph = draw_model(chunk, graph_name, pic_path)\n",
            "print()\n",
            "print(f\"Результат разделения и склейки сохранен в {pic_path}/{graph_name}\")"
         ]
      },
      {
         "cell_type": "code",
         "execution_count": 9,
         "metadata": {},
         "outputs": [],
         "source": [
            "print(f\"Было:\\n{chunk}\\n\\n\")\n",
            "print(f\"После chunk.decompose() и briks.Connector стало:\\n{new_chunk}\")"
         ]
      }
   ],
   "metadata": {
      "kernelspec": {
         "display_name": ".venv",
         "language": "python",
         "name": "python3"
      },
      "language_info": {
         "codemirror_mode": {
            "name": "ipython",
            "version": 3
         },
         "file_extension": ".py",
         "mimetype": "text/x-python",
         "name": "python",
         "nbconvert_exporter": "python",
         "pygments_lexer": "ipython3",
         "version": "3.10.12"
      },
      "orig_nbformat": 4
   },
   "nbformat": 4,
   "nbformat_minor": 2
}