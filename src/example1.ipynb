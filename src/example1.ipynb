{
 "cells": [
  {
   "cell_type": "markdown",
   "metadata": {},
   "source": [
    "## Данный пример демонстрирует создание нейросети (НС) при помощи интерпретатора специального языка (названия пока нет)\n",
    "\n",
    "Шаги создания модели:\n",
    "1. Написать скрипт с архитектурой НС.\n",
    "2. Создать экземпляр парсера Parser().\n",
    "3. Создать модели pytorch из скрипта при помощи функции from_str().\n",
    "4. Извлечь готовый модуль из результата для использования в вычислениях."
   ]
  },
  {
   "cell_type": "code",
   "execution_count": null,
   "metadata": {},
   "outputs": [],
   "source": [
    "import torch\n",
    "from torchview import draw_graph\n",
    "from  generator.interpreter import Interpreter\n",
    "import generator.bricks as bricks\n",
    "import sys\n",
    "import time\n",
    "import torch.nn.functional as F"
   ]
  },
  {
   "cell_type": "code",
   "execution_count": null,
   "metadata": {},
   "outputs": [],
   "source": [
    "# Тест создания моделей из выражения строки\n",
    "device = \"cuda\"\n",
    "\n",
    "# Примеры\n",
    "examples = dict(\n",
    "    s1 = \"output={ {@4->relu+@8->relu}^2 }%2->@16->softmax->linear(5);\",\n",
    "    s2 = \"output={ {@16->relu+@16->sigmoid}^4 }%8->@16;\",\n",
    "    s3 = \"output={ {@64->relu}^16 }%16;\",\n",
    "    s4 = \"output = linear(5) -> softmax;\",\n",
    "    s5 = \"output = { @5->@20 + @10->@20 + @20 } -> softmax;\",\n",
    "    s6 = \"\"\"\n",
    "        y = @64 + @64;          # y - параллельно соединены x и модуль из 64 нейронов\n",
    "        z = @8 -> y;            # z - x последовательно соединен с y\n",
    "        w = @8 ^ 4;             # w - 4 слоя по 8 нейронов последовательно соединены\n",
    "        a = {@16 + @16} % 2;    # a - параллельно соединены два модуля x\n",
    "        output = z -> w -> a -> {{@8 -> relu + @8 -> relu} ^ 2} % 2 -> @16 -> softmax;\n",
    "    \"\"\"\n",
    ")\n",
    "# создаем парсер\n",
    "parser = Interpreter()\n",
    "\n",
    "# Отмечаем время старта\n",
    "start_time = time.time()\n",
    "\n",
    "# создаем модели примеров\n",
    "scripts = {name: parser.parse(s) for name, s in examples.items()}\n",
    "\n",
    "# Отмечаем время окончания создания модели\n",
    "end_time = time.time()\n",
    "\n",
    "# Результат работы парсера - набор модулей models, в которых храняться модели.\n",
    "# Чтобы использовать модель - мы можем обратиться к ней по имени соответствующей переменной из скрипта.\n",
    "model = scripts[\"s6\"].get(\"output\").to(device)\n",
    "\n",
    "print(f\"Время обработки всех скриптов: {end_time-start_time}\")"
   ]
  },
  {
   "cell_type": "code",
   "execution_count": null,
   "metadata": {},
   "outputs": [],
   "source": [
    "# Подсчитаем размер модели\n",
    "from generator.visualizers import model_input_shape, model_params_count\n",
    "\n",
    "\n",
    "input_shape = (1,1)\n",
    "\n",
    "# Тестируем работу модели на тестовом тензоре\n",
    "x = torch.randn(input_shape).to(device)\n",
    "y = model.to(device)(x)\n",
    "print(f\"Результат:\\n{y}\")\n",
    "\n",
    "params_count = model_params_count(model)\n",
    "print(f\"Параметров: {params_count}\")\n",
    "\n",
    "print(f\"Размерность входного тензора: {y.shape}\")\n",
    "print(f\"Размерность выходного тензора: {y.shape}\")"
   ]
  },
  {
   "cell_type": "code",
   "execution_count": null,
   "metadata": {},
   "outputs": [],
   "source": [
    "# Получим один из элементов модели по идентификатору подмодуля\n",
    "print(f\"Подсеть: \\n{model.get_submodule('left')}\")\n"
   ]
  },
  {
   "cell_type": "code",
   "execution_count": null,
   "metadata": {},
   "outputs": [],
   "source": [
    "# Обратная конвертация модели в выражение\n",
    "# Это выражение не является полноценным скриптом, т.к. не является выражением присвоения\n",
    "model.expr_str(expand=True)\n"
   ]
  },
  {
   "cell_type": "code",
   "execution_count": null,
   "metadata": {},
   "outputs": [],
   "source": [
    "# Нарисуем диаграмму модели\n",
    "from generator.visualizers import draw_model\n",
    "\n",
    "\n",
    "input_size = (1, 10)\n",
    "pic_path = './pic'\n",
    "graph_name = 'test'\n",
    "model_graph = draw_model(model, graph_name, pic_path)\n",
    "\n",
    "print(f\"Изображение сохранено в {pic_path}/{graph_name}.png\")\n",
    "model_graph.resize_graph(scale=3)\n",
    "model_graph.visual_graph.view(graph_name)"
   ]
  },
  {
   "cell_type": "code",
   "execution_count": null,
   "metadata": {},
   "outputs": [],
   "source": [
    "# Пример того, как можно использовать в вычислениях отдельный подмодуль модели\n",
    "# Тестовый входной тензор для модели\n",
    "input_size = (1, 8)\n",
    "x = torch.randn(input_size).to(device)\n",
    "\n",
    "# Так как в синтаксисе операции '+' и '->' являются бинарными, \n",
    "# построенные из таких выражений подмодули имеют имена left и right\n",
    "# Извлечем элемент left.right из модели\n",
    "chunk = model.left.right\n",
    "print(chunk(x))\n",
    "\n",
    "graph_name='left.right'\n",
    "model_graph = draw_model(chunk, graph_name, pic_path)\n",
    "\n",
    "# Более того, мы можем менять структуру, например, операцией decompose()\n",
    "# Разделим на две части блок chunk\n",
    "left, right = chunk.decompose()\n",
    "\n",
    "# Создадим новый модуль как соединение left и  right\n",
    "new_chunk = bricks.Connector(left, right).to(\"cuda\")\n",
    "print(new_chunk(x))\n",
    "\n",
    "graph_name='decomose'\n",
    "model_graph = draw_model(chunk, graph_name, pic_path)\n",
    "print()\n",
    "print(f\"Результат разделения и склейки сохранен в {pic_path}/{graph_name}\")"
   ]
  },
  {
   "cell_type": "code",
   "execution_count": null,
   "metadata": {},
   "outputs": [],
   "source": [
    "print(f\"Было:\\n{chunk}\\n\\n\")\n",
    "print(f\"После chunk.decompose() и briks.Connector стало:\\n{new_chunk}\")"
   ]
  }
 ],
 "metadata": {
  "kernelspec": {
   "display_name": ".venv",
   "language": "python",
   "name": "python3"
  },
  "language_info": {
   "codemirror_mode": {
    "name": "ipython",
    "version": 3
   },
   "file_extension": ".py",
   "mimetype": "text/x-python",
   "name": "python",
   "nbconvert_exporter": "python",
   "pygments_lexer": "ipython3",
   "version": "3.10.12"
  },
  "orig_nbformat": 4
 },
 "nbformat": 4,
 "nbformat_minor": 2
}
