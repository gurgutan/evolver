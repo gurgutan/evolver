{
 "cells": [
  {
   "cell_type": "code",
   "execution_count": null,
   "metadata": {},
   "outputs": [
    {
     "name": "stdout",
     "output_type": "stream",
     "text": [
      "id_mx76szmjvcgrg1xr\n"
     ]
    }
   ],
   "source": [
    "import secrets\n",
    "import string\n",
    "import re\n",
    "\n",
    "def generate_identifier(length=16):\n",
    "    valid_chars = string.ascii_lowercase + string.digits\n",
    "    random_string = \"id_\"+ \"\".join(secrets.choice(valid_chars) for _ in range(length))\n",
    "    return random_string\n",
    "\n",
    "# Example usage\n",
    "unique_function_name = generate_compact_identifier()\n",
    "print(unique_function_name)\n"
   ]
  }
 ],
 "metadata": {
  "kernelspec": {
   "display_name": ".venv",
   "language": "python",
   "name": "python3"
  },
  "language_info": {
   "codemirror_mode": {
    "name": "ipython",
    "version": 3
   },
   "file_extension": ".py",
   "mimetype": "text/x-python",
   "name": "python",
   "nbconvert_exporter": "python",
   "pygments_lexer": "ipython3",
   "version": "3.10.12"
  }
 },
 "nbformat": 4,
 "nbformat_minor": 2
}
