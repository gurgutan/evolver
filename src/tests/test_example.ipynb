{
 "cells": [
  {
   "cell_type": "code",
   "execution_count": 10,
   "metadata": {},
   "outputs": [
    {
     "ename": "ModuleNotFoundError",
     "evalue": "No module named 'generator'",
     "output_type": "error",
     "traceback": [
      "\u001b[0;31m---------------------------------------------------------------------------\u001b[0m",
      "\u001b[0;31mModuleNotFoundError\u001b[0m                       Traceback (most recent call last)",
      "Cell \u001b[0;32mIn[10], line 3\u001b[0m\n\u001b[1;32m      1\u001b[0m \u001b[39mimport\u001b[39;00m \u001b[39mtorch\u001b[39;00m\n\u001b[1;32m      2\u001b[0m \u001b[39mfrom\u001b[39;00m \u001b[39mtorchview\u001b[39;00m \u001b[39mimport\u001b[39;00m draw_graph\n\u001b[0;32m----> 3\u001b[0m \u001b[39mfrom\u001b[39;00m \u001b[39mgenerator\u001b[39;00m\u001b[39m.\u001b[39;00m\u001b[39mparser\u001b[39;00m \u001b[39mimport\u001b[39;00m Parser\n\u001b[1;32m      4\u001b[0m \u001b[39mimport\u001b[39;00m \u001b[39mgenerator\u001b[39;00m\u001b[39m.\u001b[39;00m\u001b[39mbricks\u001b[39;00m \u001b[39mas\u001b[39;00m \u001b[39mbricks\u001b[39;00m\n\u001b[1;32m      5\u001b[0m \u001b[39mimport\u001b[39;00m \u001b[39msys\u001b[39;00m\n",
      "\u001b[0;31mModuleNotFoundError\u001b[0m: No module named 'generator'"
     ]
    }
   ],
   "source": [
    "import torch\n",
    "from torchview import draw_graph\n",
    "from generator.parser import Parser\n",
    "import generator.bricks as bricks\n",
    "import sys\n",
    "import time\n",
    "import torch.nn.functional as F"
   ]
  },
  {
   "cell_type": "code",
   "execution_count": 13,
   "metadata": {},
   "outputs": [
    {
     "name": "stdout",
     "output_type": "stream",
     "text": [
      "В модуле не определен входной блок\n"
     ]
    }
   ],
   "source": [
    "device = \"cuda\"\n",
    "parser = Parser()\n",
    "s1 = \"output={{@4->relu+@8->relu}^2}%2->@16->softmax->linear(5);\"\n",
    "s2 = \"output={{@16->relu+@16->sigmoid}^4}%8->@16;\"\n",
    "s3 = \"output={{@64->relu}^64}%64;\"\n",
    "s4 = \"output = linear(5) -> softmax;\"\n",
    "s5 = \"output = {@5 + @10 + @20} -> softmax;\"\n",
    "start_time = time.time()\n",
    "modules = parser.from_str(s5)\n",
    "# modules = parser.from_json('nntest.json')\n",
    "model = modules['output'].to(device)\n",
    "end_time = time.time()\n"
   ]
  },
  {
   "cell_type": "code",
   "execution_count": 20,
   "metadata": {},
   "outputs": [
    {
     "name": "stdout",
     "output_type": "stream",
     "text": [
      "tensor([[0.0299, 0.0163, 0.0452, 0.0487, 0.0284, 0.0277, 0.0178, 0.0710, 0.0233,\n",
      "         0.0087, 0.0425, 0.0222, 0.0284, 0.0102, 0.0270, 0.0211, 0.0293, 0.0160,\n",
      "         0.0456, 0.0446, 0.0213, 0.0381, 0.0311, 0.0380, 0.0103, 0.0309, 0.0221,\n",
      "         0.0423, 0.0282, 0.0231, 0.0173, 0.0215, 0.0222, 0.0207, 0.0286]],\n",
      "       device='cuda:0', grad_fn=<SoftmaxBackward0>)\n",
      "cat\n",
      "linear(10)\n"
     ]
    },
    {
     "data": {
      "text/plain": [
       "{'output': MulModule(\n",
       "   (left): cat\n",
       "   (right): softmax\n",
       " )}"
      ]
     },
     "execution_count": 20,
     "metadata": {},
     "output_type": "execute_result"
    }
   ],
   "source": [
    "# Тестируем работу сети\n",
    "output2 = modules['output'].to(device)(torch.randn(1, 10).to(device))\n",
    "print(output2)\n",
    "# Получим один из элементов модели\n",
    "print(modules['output'].left)\n",
    "print(modules['output'].left.left.right)\n",
    "modules"
   ]
  },
  {
   "cell_type": "code",
   "execution_count": 5,
   "metadata": {},
   "outputs": [
    {
     "name": "stdout",
     "output_type": "stream",
     "text": [
      "Параметров: 385, время создания:  0.020548343658447266\n"
     ]
    },
    {
     "data": {
      "text/plain": [
       "torch.Size([1, 35])"
      ]
     },
     "execution_count": 5,
     "metadata": {},
     "output_type": "execute_result"
    }
   ],
   "source": [
    "params_count = sum(p.numel() for p in modules['output'].parameters())\n",
    "print(f\"Параметров: {params_count}, время создания: \", end_time - start_time)\n",
    "output2.shape"
   ]
  },
  {
   "cell_type": "code",
   "execution_count": 6,
   "metadata": {},
   "outputs": [
    {
     "data": {
      "text/plain": [
       "'{{{linear(5)+linear(10)}+linear(20)}->softmax}'"
      ]
     },
     "execution_count": 6,
     "metadata": {},
     "output_type": "execute_result"
    }
   ],
   "source": [
    "model.expr_str(expand=False)"
   ]
  },
  {
   "cell_type": "code",
   "execution_count": 7,
   "metadata": {},
   "outputs": [],
   "source": [
    "model_graph = draw_graph(\n",
    "    model, \n",
    "    input_size=(1, 10),\n",
    "    graph_name='test',\n",
    "    graph_dir='LR',\n",
    "    depth=8,\n",
    "    hide_inner_tensors=True,\n",
    "    hide_module_functions=True,\n",
    "    save_graph=True,\n",
    "    expand_nested=True,\n",
    "    show_shapes=True,\n",
    "    filename='test',\n",
    "    directory='./pic/'\n",
    ")\n",
    "\n",
    "# model_graph.resize_graph(scale=3)\n",
    "# model_graph.visual_graph.view('./pic/test',)"
   ]
  },
  {
   "cell_type": "code",
   "execution_count": 8,
   "metadata": {},
   "outputs": [
    {
     "name": "stdout",
     "output_type": "stream",
     "text": [
      "tensor([[ 0.9356,  1.0309, -0.1638, -0.4745, -1.0700, -0.6119, -0.1854,  0.6896,\n",
      "         -1.3516,  0.3454,  0.7736,  0.4970, -0.8980,  0.6620,  0.7820,  0.6722,\n",
      "          0.1421, -0.2478, -0.7681, -1.2987]], device='cuda:0',\n",
      "       grad_fn=<AddmmBackward0>)\n",
      "tensor([[ 0.9356,  1.0309, -0.1638, -0.4745, -1.0700, -0.6119, -0.1854,  0.6896,\n",
      "         -1.3516,  0.3454,  0.7736,  0.4970, -0.8980,  0.6620,  0.7820,  0.6722,\n",
      "          0.1421, -0.2478, -0.7681, -1.2987]], device='cuda:0',\n",
      "       grad_fn=<AddmmBackward0>)\n"
     ]
    }
   ],
   "source": [
    "x = torch.randn(1,10).to(device)\n",
    "chunk = modules['output'].left.right\n",
    "print(chunk(x))\n",
    "model_graph = draw_graph(\n",
    "    chunk, \n",
    "    input_size=(1, 10),\n",
    "    graph_name='left.right',\n",
    "    graph_dir='LR',\n",
    "    depth=8,\n",
    "    hide_inner_tensors=True,\n",
    "    hide_module_functions=True,\n",
    "    save_graph=True,\n",
    "    expand_nested=True,\n",
    "    show_shapes=True,\n",
    "    filename='left.right',\n",
    "    directory='./pic/'\n",
    ")\n",
    "left, right = chunk.decompose()\n",
    "new_chunk = bricks.Multiplicator(left, right).to(\"cuda\")\n",
    "print(new_chunk(x))\n",
    "model_graph = draw_graph(\n",
    "    new_chunk, \n",
    "    input_size=(1, 10),\n",
    "    graph_name='decompose',\n",
    "    graph_dir='LR',\n",
    "    depth=8,\n",
    "    hide_inner_tensors=True,\n",
    "    hide_module_functions=True,\n",
    "    save_graph=True,\n",
    "    expand_nested=True,\n",
    "    show_shapes=True,\n",
    "    filename='decompose',\n",
    "    directory='./pic/'\n",
    ")"
   ]
  }
 ],
 "metadata": {
  "kernelspec": {
   "display_name": "Python 3",
   "language": "python",
   "name": "python3"
  },
  "language_info": {
   "codemirror_mode": {
    "name": "ipython",
    "version": 3
   },
   "file_extension": ".py",
   "mimetype": "text/x-python",
   "name": "python",
   "nbconvert_exporter": "python",
   "pygments_lexer": "ipython3",
   "version": "3.10.12"
  },
  "orig_nbformat": 4
 },
 "nbformat": 4,
 "nbformat_minor": 2
}
